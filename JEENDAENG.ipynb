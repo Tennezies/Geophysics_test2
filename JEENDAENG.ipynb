{
 "cells": [
  {
   "cell_type": "code",
   "execution_count": 2,
   "id": "307f3eef",
   "metadata": {},
   "outputs": [
    {
     "data": {
      "text/plain": [
       "3 Trace(s) in Stream:\n",
       "IU.TATO.00.BH1 | 2024-04-22T23:58:11.019538Z - 2024-04-23T00:13:10.969538Z | 20.0 Hz, 18000 samples\n",
       "IU.TATO.00.BH2 | 2024-04-22T23:58:11.019538Z - 2024-04-23T00:13:10.969538Z | 20.0 Hz, 18000 samples\n",
       "IU.TATO.00.BHZ | 2024-04-22T23:58:11.019538Z - 2024-04-23T00:13:10.969538Z | 20.0 Hz, 18000 samples"
      ]
     },
     "execution_count": 2,
     "metadata": {},
     "output_type": "execute_result"
    }
   ],
   "source": [
    "from obspy import UTCDateTime\n",
    "from obspy.clients.fdsn import Client\n",
    "\n",
    "#Download seismic data\n",
    "network = \"IU\"\n",
    "station = \"TATO\"\n",
    "channel = \"BH*\"\n",
    "starttime = UTCDateTime(\"2024-04-22T23:58:11\")\n",
    "endtime = starttime + 60*15 #15mins\n",
    "\n",
    "#Client\n",
    "client = Client(\"IRIS\")\n",
    "\n",
    "#Get waveforms\n",
    "st = client.get_waveforms(network=network, station=station, location =\"00\", channel=channel, starttime=starttime, endtime=endtime, attach_response=True)\n",
    "\n",
    "#Convert to velocity\n",
    "st.remove_response(output=\"VEL\")\n",
    "\n",
    "#Pre-processing\n",
    "st.merge(fill_value=\"interpolate\") # Merge traces if we have gaps\n",
    "st.detrend(type='linear') # Remove linear trend\n",
    "st.taper(max_percentage=0.05)"
   ]
  }
 ],
 "metadata": {
  "kernelspec": {
   "display_name": "Python 3",
   "language": "python",
   "name": "python3"
  },
  "language_info": {
   "codemirror_mode": {
    "name": "ipython",
    "version": 3
   },
   "file_extension": ".py",
   "mimetype": "text/x-python",
   "name": "python",
   "nbconvert_exporter": "python",
   "pygments_lexer": "ipython3",
   "version": "3.10.11"
  }
 },
 "nbformat": 4,
 "nbformat_minor": 5
}
